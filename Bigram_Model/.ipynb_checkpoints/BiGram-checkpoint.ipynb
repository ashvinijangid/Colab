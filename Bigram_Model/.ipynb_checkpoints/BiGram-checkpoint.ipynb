{
 "cells": [
  {
   "attachments": {},
   "cell_type": "markdown",
   "metadata": {},
   "source": [
    "## p(wk | w1...wk-1) = p(wk | wk-1)\n",
    "\n",
    "<img src=\"img.webp\" />"
   ]
  },
  {
   "cell_type": "code",
   "execution_count": 1,
   "metadata": {
    "ExecuteTime": {
     "end_time": "2019-10-12T06:30:40.419339Z",
     "start_time": "2019-10-12T06:30:39.756249Z"
    }
   },
   "outputs": [],
   "source": [
    "from nltk import bigrams, trigrams\n",
    "from collections import Counter, defaultdict\n",
    "from pprint import pprint\n",
    "from IPython import display"
   ]
  },
  {
   "cell_type": "code",
   "execution_count": 2,
   "metadata": {
    "ExecuteTime": {
     "end_time": "2019-10-12T06:30:40.424610Z",
     "start_time": "2019-10-12T06:30:40.421186Z"
    }
   },
   "outputs": [],
   "source": [
    "model = defaultdict(lambda: defaultdict(lambda: 0))"
   ]
  },
  {
   "cell_type": "code",
   "execution_count": 3,
   "metadata": {
    "ExecuteTime": {
     "end_time": "2019-10-12T06:30:40.463357Z",
     "start_time": "2019-10-12T06:30:40.426289Z"
    }
   },
   "outputs": [],
   "source": [
    "import os\n",
    "from nltk.tokenize import sent_tokenize, word_tokenize\n",
    "\n",
    "class CustomCorpus(object):\n",
    "    def __repr__(self):\n",
    "        return f\"CustomCorpusClass: Corpus of <{self.file_name}>\"\n",
    "    def __str__(self):\n",
    "        return self.__repr__()\n",
    "    def __init__(self, __file_path):\n",
    "        self.file_name = __file_path\n",
    "        assert os.path.exists(__file_path), FileNotFoundError(__file_path)\n",
    "        with open(__file_path) as F:\n",
    "            self._data = F.read()\n",
    "        self._sents = sent_tokenize(self._data)\n",
    "        self._tokens = [word_tokenize(i) for i in self._sents]\n",
    "    def sents(self):\n",
    "        return self._tokens\n",
    "    \n",
    "                  "
   ]
  },
  {
   "cell_type": "code",
   "execution_count": 4,
   "metadata": {
    "ExecuteTime": {
     "end_time": "2019-10-12T06:30:40.515603Z",
     "start_time": "2019-10-12T06:30:40.472075Z"
    }
   },
   "outputs": [],
   "source": [
    "corpus = CustomCorpus(\"data.txt\")\n",
    "\n",
    "for sentence in corpus.sents():\n",
    "    for w1, w2, w3 in trigrams(sentence, pad_right=True, pad_left=True):\n",
    "        model[(w1, w2)][w3] += 1\n",
    " \n",
    "# Let's transform the counts to probabilities\n",
    "for w1_w2 in model:\n",
    "    total_count = float(sum(model[w1_w2].values()))\n",
    "    for w3 in model[w1_w2]:\n",
    "        model[w1_w2][w3] /= total_count"
   ]
  },
  {
   "cell_type": "code",
   "execution_count": 15,
   "metadata": {
    "ExecuteTime": {
     "end_time": "2019-10-12T06:33:04.584777Z",
     "start_time": "2019-10-12T06:33:04.573534Z"
    }
   },
   "outputs": [
    {
     "data": {
      "text/plain": [
       "{'a': 1.0}"
      ]
     },
     "execution_count": 15,
     "metadata": {},
     "output_type": "execute_result"
    }
   ],
   "source": [
    "dict(model['us', \"to\"])"
   ]
  },
  {
   "cell_type": "code",
   "execution_count": null,
   "metadata": {
    "ExecuteTime": {
     "end_time": "2019-10-12T06:33:16.095419Z",
     "start_time": "2019-10-12T06:33:16.085965Z"
    }
   },
   "outputs": [],
   "source": []
  },
  {
   "cell_type": "code",
   "execution_count": null,
   "metadata": {},
   "outputs": [],
   "source": []
  }
 ],
 "metadata": {
  "kernelspec": {
   "display_name": "Python 3",
   "language": "python",
   "name": "python3"
  },
  "language_info": {
   "codemirror_mode": {
    "name": "ipython",
    "version": 3
   },
   "file_extension": ".py",
   "mimetype": "text/x-python",
   "name": "python",
   "nbconvert_exporter": "python",
   "pygments_lexer": "ipython3",
   "version": "3.7.4"
  }
 },
 "nbformat": 4,
 "nbformat_minor": 2
}
